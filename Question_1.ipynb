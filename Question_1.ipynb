{
  "nbformat": 4,
  "nbformat_minor": 0,
  "metadata": {
    "colab": {
      "provenance": [],
      "include_colab_link": true
    },
    "kernelspec": {
      "name": "python3",
      "display_name": "Python 3"
    },
    "language_info": {
      "name": "python"
    }
  },
  "cells": [
    {
      "cell_type": "markdown",
      "metadata": {
        "id": "view-in-github",
        "colab_type": "text"
      },
      "source": [
        "<a href=\"https://colab.research.google.com/github/RongBin713/Assignment/blob/main/Question_1.ipynb\" target=\"_parent\"><img src=\"https://colab.research.google.com/assets/colab-badge.svg\" alt=\"Open In Colab\"/></a>"
      ]
    },
    {
      "cell_type": "markdown",
      "source": [
        "(a)"
      ],
      "metadata": {
        "id": "N_4nY61ojU9-"
      }
    },
    {
      "cell_type": "code",
      "execution_count": null,
      "metadata": {
        "colab": {
          "base_uri": "https://localhost:8080/"
        },
        "id": "pRk6B8Lki_SC",
        "outputId": "8ae668e7-03fc-4052-b5d4-c3c51f845d09"
      },
      "outputs": [
        {
          "output_type": "stream",
          "name": "stdout",
          "text": [
            "Input an integer: 2\n",
            "0.135085797638\n",
            "--- 0.2632136344909668 seconds ---\n"
          ]
        }
      ],
      "source": [
        "import time, math\n",
        "\n",
        "def list_primality(n):\n",
        "\tresult = [True] * (n + 1)\n",
        "\tresult[0] = result[1] = False\n",
        "\tfor i in range(int(math.sqrt(n)) + 1):\n",
        "\t\tif result[i]:\n",
        "\t\t\tfor j in range(2 * i, len(result), i):\n",
        "\t\t\t\tresult[j] = False\n",
        "\treturn result\n",
        "\n",
        "def list_primes(n):\n",
        "\treturn [i for (i, isprime) in enumerate(list_primality(n)) if isprime]\n",
        "\n",
        "def f(K):\n",
        "    primes = list_primes(10**6)\n",
        "    total = 0\n",
        "    curr = 1\n",
        "    for p in primes:\n",
        "        total += curr*(1/((p**(K+1))*(p-1)))\n",
        "        curr *= (p - 1)/p\n",
        "    return round(total, 12)\n",
        "\n",
        "if __name__ == \"__main__\":\n",
        "  while True:\n",
        "    a = int(input(\"Input an integer: \"))\n",
        "    start_time = time.time()\n",
        "    print(f(a))\n",
        "    break\n",
        "  print(\"--- %s seconds ---\" % (time.time() - start_time))"
      ]
    },
    {
      "cell_type": "markdown",
      "source": [
        "(b)"
      ],
      "metadata": {
        "id": "0wlBk6dHjdM_"
      }
    },
    {
      "cell_type": "code",
      "source": [
        "from fractions import Fraction\n",
        "\n",
        "ls = [4, 5, 6, 7, 8, 9, 10, 12, 12, 14, 15, 18, 20, 21, 24, 28, 30, 35, 36, 40, 42, 45, 56, 60, 63, 70, 72]\n",
        "\n",
        "ans = 0\n",
        "n = len(ls)\n",
        "the_sum = Fraction(1, 2) - Fraction(1, 4) - Fraction(1, 9)\n",
        "l, r = ls[:n // 2], ls[n // 2:]\n",
        "mp = {}\n",
        "for i in range(1 << len(l)):\n",
        "    s = Fraction(0)\n",
        "    for j in range(len(l)):\n",
        "        if i >> j & 1:\n",
        "            s += Fraction(1, l[j] * l[j])\n",
        "    if s <= the_sum:\n",
        "        if s not in mp.keys():\n",
        "            mp[s] = 0\n",
        "        mp[s] += 1\n",
        "for i in range(1 << len(r)):\n",
        "    s = Fraction(0)\n",
        "    for j in range(len(r)):\n",
        "        if i >> j & 1:\n",
        "            s += Fraction(1, r[j] * r[j])\n",
        "    t = the_sum - s\n",
        "    if t in mp.keys():\n",
        "        ans += mp[t]\n",
        "print(ans)"
      ],
      "metadata": {
        "colab": {
          "base_uri": "https://localhost:8080/"
        },
        "id": "OhJXYheSjfyf",
        "outputId": "62df0714-361a-4f6a-81b3-0c17b09dc0c2"
      },
      "execution_count": null,
      "outputs": [
        {
          "output_type": "stream",
          "name": "stdout",
          "text": [
            "301\n"
          ]
        }
      ]
    },
    {
      "cell_type": "markdown",
      "source": [
        "(c)"
      ],
      "metadata": {
        "id": "VaNWN4Qnr7gF"
      }
    },
    {
      "cell_type": "code",
      "source": [
        "def calculate_divisors(n):\n",
        "    \"\"\"Calculate the number of divisors of a number n.\"\"\"\n",
        "    divisors = 1\n",
        "    count = 0\n",
        "\n",
        "    # Count the power of 2\n",
        "    while n % 2 == 0:\n",
        "        n //= 2\n",
        "        count += 1\n",
        "    divisors *= (count + 1)\n",
        "\n",
        "    # Count the power of odd primes\n",
        "    p = 3\n",
        "    while p * p <= n:\n",
        "        count = 0\n",
        "        while n % p == 0:\n",
        "            n //= p\n",
        "            count += 1\n",
        "        divisors *= (count + 1)\n",
        "        p += 2\n",
        "\n",
        "    # If n is a prime number greater than 2\n",
        "    if n > 1:\n",
        "        divisors *= 2\n",
        "\n",
        "    return divisors\n",
        "\n",
        "def find_consecutive_divisors(limit):\n",
        "    \"\"\"Find numbers where n and n+1 have the same number of divisors.\"\"\"\n",
        "    prev_divisors = calculate_divisors(2)  # Divisor count for n = 2\n",
        "    count = 0\n",
        "\n",
        "    print(f\"\\nAnalyzing numbers between 2 and {limit}...\")\n",
        "    print(\"Finding pairs where n and n+1 have the same number of divisors.\\n\")\n",
        "\n",
        "    for n in range(3, limit + 1):\n",
        "        current_divisors = calculate_divisors(n)\n",
        "        if prev_divisors == current_divisors:\n",
        "            print(f\"Match found: n = {n - 1} (Divisors: {prev_divisors}) and n+1 = {n} (Divisors: {current_divisors})\")\n",
        "            count += 1\n",
        "        prev_divisors = current_divisors\n",
        "\n",
        "    return count\n",
        "\n",
        "# Main Program\n",
        "\n",
        "try:\n",
        "    # User input for range limit\n",
        "    user_limit = int(input(\"Enter the maximum number to analyze (e.g., up to 200): \"))\n",
        "\n",
        "    if user_limit > 200:\n",
        "        print(\"The number is too big! Please enter a number less than or equal to 200.\")\n",
        "    elif user_limit < 2:\n",
        "        print(\"Please enter a number greater than 2.\")\n",
        "    else:\n",
        "        # Run the calculation and display the result\n",
        "        result = find_consecutive_divisors(user_limit)\n",
        "        print(f\"\\nTotal number of integers where n and n+1 have the same number of divisors: {result}\")\n",
        "except ValueError:\n",
        "    print(\"Invalid input. Please enter a valid integer.\")\n"
      ],
      "metadata": {
        "colab": {
          "base_uri": "https://localhost:8080/"
        },
        "id": "IcHrkOQLr97-",
        "outputId": "fa7ad7fb-3344-416e-86ba-a0f420d94a78"
      },
      "execution_count": null,
      "outputs": [
        {
          "output_type": "stream",
          "name": "stdout",
          "text": [
            "Welcome to the Divisor Counter!\n",
            "Enter the maximum number to analyze (e.g., up to 200): 167\n",
            "\n",
            "Analyzing numbers between 2 and 167...\n",
            "Finding pairs where n and n+1 have the same number of divisors.\n",
            "\n",
            "Match found: n = 2 (Divisors: 2) and n+1 = 3 (Divisors: 2)\n",
            "Match found: n = 14 (Divisors: 4) and n+1 = 15 (Divisors: 4)\n",
            "Match found: n = 21 (Divisors: 4) and n+1 = 22 (Divisors: 4)\n",
            "Match found: n = 26 (Divisors: 4) and n+1 = 27 (Divisors: 4)\n",
            "Match found: n = 33 (Divisors: 4) and n+1 = 34 (Divisors: 4)\n",
            "Match found: n = 34 (Divisors: 4) and n+1 = 35 (Divisors: 4)\n",
            "Match found: n = 38 (Divisors: 4) and n+1 = 39 (Divisors: 4)\n",
            "Match found: n = 44 (Divisors: 6) and n+1 = 45 (Divisors: 6)\n",
            "Match found: n = 57 (Divisors: 4) and n+1 = 58 (Divisors: 4)\n",
            "Match found: n = 75 (Divisors: 6) and n+1 = 76 (Divisors: 6)\n",
            "Match found: n = 85 (Divisors: 4) and n+1 = 86 (Divisors: 4)\n",
            "Match found: n = 86 (Divisors: 4) and n+1 = 87 (Divisors: 4)\n",
            "Match found: n = 93 (Divisors: 4) and n+1 = 94 (Divisors: 4)\n",
            "Match found: n = 94 (Divisors: 4) and n+1 = 95 (Divisors: 4)\n",
            "Match found: n = 98 (Divisors: 6) and n+1 = 99 (Divisors: 6)\n",
            "Match found: n = 104 (Divisors: 8) and n+1 = 105 (Divisors: 8)\n",
            "Match found: n = 116 (Divisors: 6) and n+1 = 117 (Divisors: 6)\n",
            "Match found: n = 118 (Divisors: 4) and n+1 = 119 (Divisors: 4)\n",
            "Match found: n = 122 (Divisors: 4) and n+1 = 123 (Divisors: 4)\n",
            "Match found: n = 133 (Divisors: 4) and n+1 = 134 (Divisors: 4)\n",
            "Match found: n = 135 (Divisors: 8) and n+1 = 136 (Divisors: 8)\n",
            "Match found: n = 141 (Divisors: 4) and n+1 = 142 (Divisors: 4)\n",
            "Match found: n = 142 (Divisors: 4) and n+1 = 143 (Divisors: 4)\n",
            "Match found: n = 145 (Divisors: 4) and n+1 = 146 (Divisors: 4)\n",
            "Match found: n = 147 (Divisors: 6) and n+1 = 148 (Divisors: 6)\n",
            "Match found: n = 158 (Divisors: 4) and n+1 = 159 (Divisors: 4)\n",
            "\n",
            "Total number of integers where n and n+1 have the same number of divisors: 26\n"
          ]
        }
      ]
    },
    {
      "cell_type": "markdown",
      "source": [
        "(d)"
      ],
      "metadata": {
        "id": "lOeIKlzWyok4"
      }
    },
    {
      "cell_type": "code",
      "source": [
        "MODULO = 10**9  # To get the last 9 digits\n",
        "\n",
        "def count_arrangements_efficient(n):\n",
        "    \"\"\"\n",
        "    Calculate D(n): the number of unique arrangements of amoebas after n divisions.\n",
        "    Uses an efficient dynamic programming approach with space optimization.\n",
        "    Returns only the last 9 digits of the result.\n",
        "    \"\"\"\n",
        "    if n == 0:\n",
        "        return 1\n",
        "\n",
        "    prev = 1  # D(0) = 1\n",
        "    for i in range(1, n + 1):\n",
        "        # Compute D(i) based on the formula (D(i-1) * (2 * i + 1)) % MODULO\n",
        "        prev = (prev * (2 * i + 1)) % MODULO\n",
        "\n",
        "    return prev\n",
        "\n",
        "# Main program\n",
        "if __name__ == \"__main__\":\n",
        "    while True:\n",
        "        try:\n",
        "            # Taking user input\n",
        "            N = int(input(\"Enter a value for N (<= 20000): \"))  # Let the user input the value for N\n",
        "\n",
        "            if N > 20000:  # Limit input size to avoid extremely long computations\n",
        "                print(\"Number too big. Please enter a number less than or equal to 20000.\")\n",
        "            else:\n",
        "                result = count_arrangements_efficient(N)\n",
        "                print(f\"The last 9 digits of D({N}) are: {result}\")\n",
        "                break  # Exit the loop after a valid input and result\n",
        "        except ValueError:\n",
        "            print(\"Invalid input. Please enter a valid integer.\")"
      ],
      "metadata": {
        "colab": {
          "base_uri": "https://localhost:8080/"
        },
        "id": "1qJF-ueyyql3",
        "outputId": "ed9d7bb3-c2ea-407d-dfbe-08e91960c0d8"
      },
      "execution_count": 1,
      "outputs": [
        {
          "output_type": "stream",
          "name": "stdout",
          "text": [
            "Enter a value for N (<= 20000): 5\n",
            "The last 9 digits of D(5) are: 10395\n"
          ]
        }
      ]
    }
  ]
}